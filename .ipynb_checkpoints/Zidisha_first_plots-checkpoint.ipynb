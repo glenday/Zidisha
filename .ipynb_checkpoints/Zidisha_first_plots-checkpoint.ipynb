{
 "cells": [
  {
   "cell_type": "code",
   "execution_count": 184,
   "metadata": {
    "collapsed": false
   },
   "outputs": [],
   "source": [
    "import numpy as np\n",
    "import pandas as pd\n",
    "import matplotlib.pyplot as plt\n",
    "import sqlalchemy as sql\n",
    "import pymysql\n",
    "import binData as bd\n",
    "#import Python.binData as bd\n",
    "%matplotlib inline"
   ]
  },
  {
   "cell_type": "code",
   "execution_count": 186,
   "metadata": {
    "collapsed": true
   },
   "outputs": [],
   "source": [
    "#connect to db\n",
    "engine = sql.create_engine('mysql+pymysql://root:@localhost/zidisha')"
   ]
  },
  {
   "cell_type": "code",
   "execution_count": 100,
   "metadata": {
    "collapsed": false
   },
   "outputs": [],
   "source": [
    "#load tables\n",
    "\n",
    "#data on individual borrowers\n",
    "df_borrowers = pd.read_sql_query('SELECT * FROM borrowers', engine)\n",
    "#data on each loan started\n",
    "df_loans = pd.read_sql_query('SELECT * FROM loans', engine)\n",
    "#data on credits given for inviting new borrowers\n",
    "df_credits = pd.read_sql_query('SELECT * FROM credits_earned_new', engine)\n",
    "#country data (more than just the contries covered by Zidisha)\n",
    "df_countries = pd.read_sql_query('SELECT * FROM countries', engine)\n",
    "#exhange rates over time\n",
    "df_exchange = pd.read_sql_query('SELECT * FROM exchange_rates', engine)"
   ]
  },
  {
   "cell_type": "code",
   "execution_count": 188,
   "metadata": {
    "collapsed": true
   },
   "outputs": [],
   "source": [
    "time_bins_edge = pd.date_range('2012-02-01','2015-09-01', None, 'W')\n",
    "time_bins_center = (time_bins_edge + pd.DateOffset(days=3.5))[:-1]"
   ]
  },
  {
   "cell_type": "code",
   "execution_count": 187,
   "metadata": {
    "collapsed": true
   },
   "outputs": [],
   "source": [
    "#data on individual borrowers\n",
    "df_new_borrowers = pd.read_sql_query('SELECT created_at FROM borrowers WHERE activation_status != 4', engine)\n",
    "df_new_borrowers = pd.DataFrame({'number':1},index=df_new_borrowers.created_at)"
   ]
  },
  {
   "cell_type": "code",
   "execution_count": 135,
   "metadata": {
    "collapsed": false
   },
   "outputs": [
    {
     "data": {
      "text/plain": [
       "Timestamp('2009-09-10 09:05:28')"
      ]
     },
     "execution_count": 135,
     "metadata": {},
     "output_type": "execute_result"
    }
   ],
   "source": [
    "df_new_borrowers.index[0]"
   ]
  },
  {
   "cell_type": "code",
   "execution_count": 136,
   "metadata": {
    "collapsed": false
   },
   "outputs": [
    {
     "data": {
      "text/plain": [
       "Timestamp('2012-02-05 00:00:00', offset='W-SUN')"
      ]
     },
     "execution_count": 136,
     "metadata": {},
     "output_type": "execute_result"
    }
   ],
   "source": [
    "time_bins_edge[0]"
   ]
  },
  {
   "cell_type": "code",
   "execution_count": 137,
   "metadata": {
    "collapsed": false
   },
   "outputs": [
    {
     "data": {
      "text/plain": [
       "Timestamp('2012-02-08 12:00:00', offset='W-WED')"
      ]
     },
     "execution_count": 137,
     "metadata": {},
     "output_type": "execute_result"
    }
   ],
   "source": [
    "time_bins_center[0]"
   ]
  },
  {
   "cell_type": "code",
   "execution_count": 189,
   "metadata": {
    "collapsed": false
   },
   "outputs": [
    {
     "name": "stdout",
     "output_type": "stream",
     "text": [
      "1\n"
     ]
    }
   ],
   "source": [
    "df_nb_counts = bd.bin_sum_time(time_bins_edge, time_bins_center, df_new_borrowers)"
   ]
  },
  {
   "cell_type": "code",
   "execution_count": 190,
   "metadata": {
    "collapsed": false
   },
   "outputs": [
    {
     "data": {
      "text/plain": [
       "pandas.core.frame.DataFrame"
      ]
     },
     "execution_count": 190,
     "metadata": {},
     "output_type": "execute_result"
    }
   ],
   "source": [
    "type(df_nb_counts)"
   ]
  },
  {
   "cell_type": "code",
   "execution_count": 156,
   "metadata": {
    "collapsed": true
   },
   "outputs": [],
   "source": [
    "dcba = pd.DataFrame({'sum': 0},index=time_bins_center)"
   ]
  },
  {
   "cell_type": "code",
   "execution_count": 158,
   "metadata": {
    "collapsed": false
   },
   "outputs": [
    {
     "data": {
      "text/plain": [
       "186"
      ]
     },
     "execution_count": 158,
     "metadata": {},
     "output_type": "execute_result"
    }
   ],
   "source": [
    "len(dcba)"
   ]
  },
  {
   "cell_type": "code",
   "execution_count": 185,
   "metadata": {
    "collapsed": false
   },
   "outputs": [
    {
     "name": "stdout",
     "output_type": "stream",
     "text": [
      "wtf\n"
     ]
    }
   ],
   "source": [
    "a=bd.stupid(1)"
   ]
  },
  {
   "cell_type": "code",
   "execution_count": 139,
   "metadata": {
    "collapsed": false
   },
   "outputs": [
    {
     "ename": "AttributeError",
     "evalue": "'NoneType' object has no attribute 'plot'",
     "output_type": "error",
     "traceback": [
      "\u001b[0;31m---------------------------------------------------------------------------\u001b[0m",
      "\u001b[0;31mAttributeError\u001b[0m                            Traceback (most recent call last)",
      "\u001b[0;32m<ipython-input-139-3264fe0c7ad4>\u001b[0m in \u001b[0;36m<module>\u001b[0;34m()\u001b[0m\n\u001b[0;32m----> 1\u001b[0;31m \u001b[0mdf_nb_counts\u001b[0m\u001b[0;34m.\u001b[0m\u001b[0mplot\u001b[0m\u001b[0;34m(\u001b[0m\u001b[0;34m)\u001b[0m\u001b[0;34m\u001b[0m\u001b[0m\n\u001b[0m",
      "\u001b[0;31mAttributeError\u001b[0m: 'NoneType' object has no attribute 'plot'"
     ]
    }
   ],
   "source": [
    "df_nb_counts.plot()"
   ]
  },
  {
   "cell_type": "code",
   "execution_count": 90,
   "metadata": {
    "collapsed": true
   },
   "outputs": [
    {
     "data": {
      "text/plain": [
       "id                                int64\n",
       "country_id                        int64\n",
       "first_name                       object\n",
       "last_name                        object\n",
       "active_loan_id                  float64\n",
       "last_loan_id                    float64\n",
       "loan_status                       int64\n",
       "active                            int64\n",
       "volunteer_mentor_id             float64\n",
       "activation_status                 int64\n",
       "created_at               datetime64[ns]\n",
       "updated_at               datetime64[ns]\n",
       "activation_user_id              float64\n",
       "activation_automated            float64\n",
       "activation_updated_at    datetime64[ns]\n",
       "declined_reason                  object\n",
       "banyan_project                    int64\n",
       "sift_labeled_bad                  int64\n",
       "dtype: object"
      ]
     },
     "execution_count": 90,
     "metadata": {},
     "output_type": "execute_result"
    }
   ],
   "source": [
    "df_borrowers.dtypes"
   ]
  },
  {
   "cell_type": "code",
   "execution_count": 73,
   "metadata": {
    "collapsed": true
   },
   "outputs": [
    {
     "data": {
      "text/plain": [
       "id                                    int64\n",
       "borrower_id                           int64\n",
       "summary                              object\n",
       "summary_translation                  object\n",
       "auto_summary_translation             object\n",
       "proposal                             object\n",
       "proposal_translation                 object\n",
       "auto_proposal_translation            object\n",
       "amount                              float64\n",
       "total_amount                        float64\n",
       "paid_amount                         float64\n",
       "usd_amount                          float64\n",
       "installment_day                     float64\n",
       "max_interest_rate                   float64\n",
       "lender_interest_rate                float64\n",
       "category_id                         float64\n",
       "secondary_category_id               float64\n",
       "status                                int64\n",
       "applied_at                   datetime64[ns]\n",
       "accepted_at                  datetime64[ns]\n",
       "expired_at                           object\n",
       "defaulted_at                         object\n",
       "canceled_at                          object\n",
       "repaid_at                    datetime64[ns]\n",
       "authorized_at                        object\n",
       "authorized_amount                   float64\n",
       "disbursed_at                 datetime64[ns]\n",
       "disbursed_amount                    float64\n",
       "forgiven_amount                     float64\n",
       "registration_fee                    float64\n",
       "raised_usd_amount                   float64\n",
       "raised_percentage                   float64\n",
       "paid_percentage                     float64\n",
       "service_fee_rate                    float64\n",
       "extra_days                          float64\n",
       "currency_code                        object\n",
       "installment_period                    int64\n",
       "period                                int64\n",
       "original_period                     float64\n",
       "accept_bids_note                     object\n",
       "sift_science_score                  float64\n",
       "deleted_by_admin                      int64\n",
       "created_at                   datetime64[ns]\n",
       "updated_at                   datetime64[ns]\n",
       "loan_loss_reserve_fee               float64\n",
       "slug                                 object\n",
       "installment_amount                  float64\n",
       "dtype: object"
      ]
     },
     "execution_count": 73,
     "metadata": {},
     "output_type": "execute_result"
    }
   ],
   "source": [
    "df_loans.dtypes"
   ]
  },
  {
   "cell_type": "code",
   "execution_count": 101,
   "metadata": {
    "collapsed": true
   },
   "outputs": [
    {
     "data": {
      "text/plain": [
       "id                        int64\n",
       "rate                    float64\n",
       "start_date       datetime64[ns]\n",
       "end_date         datetime64[ns]\n",
       "currency_code            object\n",
       "is_current                int64\n",
       "dtype: object"
      ]
     },
     "execution_count": 101,
     "metadata": {},
     "output_type": "execute_result"
    }
   ],
   "source": [
    "df_exchange.dtypes"
   ]
  },
  {
   "cell_type": "code",
   "execution_count": 103,
   "metadata": {
    "collapsed": true
   },
   "outputs": [
    {
     "data": {
      "text/plain": [
       "id                                  int64\n",
       "name                               object\n",
       "slug                               object\n",
       "capital                            object\n",
       "continent_code                     object\n",
       "country_code                       object\n",
       "dialing_code                       object\n",
       "phone_number_length               float64\n",
       "currency_code                      object\n",
       "borrower_country                  float64\n",
       "registration_fee                  float64\n",
       "installment_period                  int64\n",
       "installment_amount_step           float64\n",
       "loan_amount_step                  float64\n",
       "repayment_instructions             object\n",
       "accept_bids_note                   object\n",
       "language_code                      object\n",
       "created_at                         object\n",
       "updated_at                 datetime64[ns]\n",
       "mobile_payment_system               int64\n",
       "refund_threshold                  float64\n",
       "loan_loss_reserve_fee             float64\n",
       "dtype: object"
      ]
     },
     "execution_count": 103,
     "metadata": {},
     "output_type": "execute_result"
    }
   ],
   "source": [
    "df_countries.dtypes"
   ]
  },
  {
   "cell_type": "code",
   "execution_count": 107,
   "metadata": {
    "collapsed": false
   },
   "outputs": [
    {
     "data": {
      "text/html": [
       "<div>\n",
       "<table border=\"1\" class=\"dataframe\">\n",
       "  <thead>\n",
       "    <tr style=\"text-align: right;\">\n",
       "      <th></th>\n",
       "      <th>id</th>\n",
       "      <th>name</th>\n",
       "      <th>slug</th>\n",
       "      <th>capital</th>\n",
       "      <th>continent_code</th>\n",
       "      <th>country_code</th>\n",
       "      <th>dialing_code</th>\n",
       "      <th>phone_number_length</th>\n",
       "      <th>currency_code</th>\n",
       "      <th>borrower_country</th>\n",
       "      <th>...</th>\n",
       "      <th>installment_amount_step</th>\n",
       "      <th>loan_amount_step</th>\n",
       "      <th>repayment_instructions</th>\n",
       "      <th>accept_bids_note</th>\n",
       "      <th>language_code</th>\n",
       "      <th>created_at</th>\n",
       "      <th>updated_at</th>\n",
       "      <th>mobile_payment_system</th>\n",
       "      <th>refund_threshold</th>\n",
       "      <th>loan_loss_reserve_fee</th>\n",
       "    </tr>\n",
       "  </thead>\n",
       "  <tbody>\n",
       "    <tr>\n",
       "      <th>20</th>\n",
       "      <td>32</td>\n",
       "      <td>Kenya</td>\n",
       "      <td>kenya</td>\n",
       "      <td>Nairobi</td>\n",
       "      <td>AF</td>\n",
       "      <td>KE</td>\n",
       "      <td>254</td>\n",
       "      <td>10</td>\n",
       "      <td>KES</td>\n",
       "      <td>1</td>\n",
       "      <td>...</td>\n",
       "      <td>100</td>\n",
       "      <td>1000</td>\n",
       "      <td>Payments should be sent to M-PESA bill pay acc...</td>\n",
       "      <td></td>\n",
       "      <td>en</td>\n",
       "      <td>None</td>\n",
       "      <td>2015-08-18 12:04:22</td>\n",
       "      <td>1</td>\n",
       "      <td>1</td>\n",
       "      <td>7000</td>\n",
       "    </tr>\n",
       "  </tbody>\n",
       "</table>\n",
       "<p>1 rows × 22 columns</p>\n",
       "</div>"
      ],
      "text/plain": [
       "    id   name   slug  capital continent_code country_code dialing_code  \\\n",
       "20  32  Kenya  kenya  Nairobi             AF           KE          254   \n",
       "\n",
       "    phone_number_length currency_code  borrower_country  \\\n",
       "20                   10           KES                 1   \n",
       "\n",
       "            ...            installment_amount_step  loan_amount_step  \\\n",
       "20          ...                                100              1000   \n",
       "\n",
       "                               repayment_instructions  accept_bids_note  \\\n",
       "20  Payments should be sent to M-PESA bill pay acc...                     \n",
       "\n",
       "   language_code created_at          updated_at mobile_payment_system  \\\n",
       "20            en       None 2015-08-18 12:04:22                     1   \n",
       "\n",
       "   refund_threshold  loan_loss_reserve_fee  \n",
       "20                1                   7000  \n",
       "\n",
       "[1 rows x 22 columns]"
      ]
     },
     "execution_count": 107,
     "metadata": {},
     "output_type": "execute_result"
    }
   ],
   "source": [
    "df_countries[df_countries.name=='Kenya']"
   ]
  },
  {
   "cell_type": "code",
   "execution_count": 102,
   "metadata": {
    "collapsed": false
   },
   "outputs": [
    {
     "data": {
      "text/plain": [
       "<matplotlib.axes._subplots.AxesSubplot at 0x10e19c5c0>"
      ]
     },
     "execution_count": 102,
     "metadata": {},
     "output_type": "execute_result"
    },
    {
     "data": {
      "image/png": "[encoded data removed]",
      "text/plain": [
       "<matplotlib.figure.Figure at 0x110e31710>"
      ]
     },
     "metadata": {},
     "output_type": "display_data"
    }
   ],
   "source": [
    "plot(df_exchange.start_date, )"
   ]
  },
  {
   "cell_type": "code",
   "execution_count": 96,
   "metadata": {
    "collapsed": true
   },
   "outputs": [],
   "source": [
    "#merge tables (this is not particularly efficient, as we do not need all the columns)\n",
    "df_loans_borrowers = pd.merge(df_borrowers, df_loans, left_on='id', right_on='borrower_id')\n",
    "df_loans_borrowers_countries = pd.merge(df_loans_borrowers, df_countries, left_on='country_id',right_on='id')"
   ]
  },
  {
   "cell_type": "code",
   "execution_count": null,
   "metadata": {
    "collapsed": true
   },
   "outputs": [],
   "source": []
  },
  {
   "cell_type": "code",
   "execution_count": 93,
   "metadata": {
    "collapsed": false
   },
   "outputs": [],
   "source": [
    "df_borrowers_time = df_borrowers.set_index('created_at')\n",
    "df_borrowers_time = df_borrowers_time[df_borrowers_time.activation_status != 4]\n",
    "#s_new_rates = df_borrowers_time.groupby([lambda x: pd.datetime(x.year, x.month, 0, 0)])['id'].count()\n",
    "s_new_rates = df_borrowers_time.groupby([lambda x: x.year, lambda x: x.month, ])['id'].count()\n",
    "s_new_rates = pd.DataFrame({s_new_rates})"
   ]
  },
  {
   "cell_type": "code",
   "execution_count": null,
   "metadata": {
    "collapsed": true
   },
   "outputs": [],
   "source": []
  },
  {
   "cell_type": "code",
   "execution_count": 85,
   "metadata": {
    "collapsed": false
   },
   "outputs": [
    {
     "data": {
      "text/plain": [
       "2009  9        3\n",
       "      10       2\n",
       "2010  2        1\n",
       "      4        4\n",
       "      5        1\n",
       "      6       11\n",
       "      7       16\n",
       "      8        7\n",
       "      10      17\n",
       "      11       3\n",
       "      12       3\n",
       "2011  1       10\n",
       "      2        8\n",
       "      3        7\n",
       "      4        5\n",
       "      5       12\n",
       "      6       14\n",
       "      7       11\n",
       "      8       16\n",
       "      9        2\n",
       "      10      15\n",
       "      11      23\n",
       "      12      37\n",
       "2012  1       33\n",
       "      2       30\n",
       "      3       48\n",
       "      4       57\n",
       "      5       91\n",
       "      6       21\n",
       "      7       64\n",
       "            ... \n",
       "2013  4      474\n",
       "      5      523\n",
       "      6      348\n",
       "      7      669\n",
       "      8      951\n",
       "      9      797\n",
       "      10     791\n",
       "      11     607\n",
       "      12     229\n",
       "2014  1      620\n",
       "      2      558\n",
       "      3      485\n",
       "      4      510\n",
       "      5      526\n",
       "      6      345\n",
       "      7      320\n",
       "      8      332\n",
       "      9      337\n",
       "      10     191\n",
       "      11     255\n",
       "      12     462\n",
       "2015  1      985\n",
       "      2     1460\n",
       "      3      913\n",
       "      4      798\n",
       "      5      929\n",
       "      6      920\n",
       "      7     1005\n",
       "      8     1142\n",
       "      9      416\n",
       "Name: id, dtype: int64"
      ]
     },
     "execution_count": 85,
     "metadata": {},
     "output_type": "execute_result"
    }
   ],
   "source": [
    "s_new_rates"
   ]
  },
  {
   "cell_type": "code",
   "execution_count": 61,
   "metadata": {
    "collapsed": false
   },
   "outputs": [],
   "source": [
    "df_borrowers_simp = pd.DataFrame({'year' : df_borrowers.created_at.dt.year,\n",
    "                                 'month' : df_borrowers.created_at.dt.month,\n",
    "                                 'id' : df_borrowers.id})\n",
    "s_new_rates = df_borrowers_simp.groupby(['year','month'])['id'].count()\n",
    "s_new_rates = pd.DataFrame({'date' : dateTime(s_new_rates})"
   ]
  },
  {
   "cell_type": "code",
   "execution_count": 94,
   "metadata": {
    "collapsed": false
   },
   "outputs": [
    {
     "data": {
      "text/plain": [
       "<matplotlib.axes._subplots.AxesSubplot at 0x10ad443c8>"
      ]
     },
     "execution_count": 94,
     "metadata": {},
     "output_type": "execute_result"
    },
    {
     "data": {
      "image/png": "[encoded data removed]",
      "text/plain": [
       "<matplotlib.figure.Figure at 0x10a524a90>"
      ]
     },
     "metadata": {},
     "output_type": "display_data"
    }
   ],
   "source": [
    "s_new_rates.plot()"
   ]
  },
  {
   "cell_type": "code",
   "execution_count": 63,
   "metadata": {
    "collapsed": false
   },
   "outputs": [
    {
     "data": {
      "text/plain": [
       "year  month\n",
       "2009  9           3\n",
       "      10          2\n",
       "2010  2           1\n",
       "      4           4\n",
       "      5           1\n",
       "      6          11\n",
       "      7          16\n",
       "      8           7\n",
       "      10         17\n",
       "      11          3\n",
       "      12          3\n",
       "2011  1          10\n",
       "      2           8\n",
       "      3           8\n",
       "      4           5\n",
       "      5          12\n",
       "      6          15\n",
       "      7          11\n",
       "      8          17\n",
       "      9           2\n",
       "      10         15\n",
       "      11         23\n",
       "      12         45\n",
       "2012  1          48\n",
       "      2          49\n",
       "      3          70\n",
       "      4          66\n",
       "      5         122\n",
       "      6          32\n",
       "      7          73\n",
       "               ... \n",
       "2013  4         546\n",
       "      5         684\n",
       "      6         424\n",
       "      7         777\n",
       "      8        1024\n",
       "      9         900\n",
       "      10        883\n",
       "      11        649\n",
       "      12        270\n",
       "2014  1         796\n",
       "      2         742\n",
       "      3         697\n",
       "      4         670\n",
       "      5         719\n",
       "      6         487\n",
       "      7         458\n",
       "      8         436\n",
       "      9         415\n",
       "      10        214\n",
       "      11        294\n",
       "      12        580\n",
       "2015  1        1146\n",
       "      2        1706\n",
       "      3        1054\n",
       "      4         995\n",
       "      5        1208\n",
       "      6        1177\n",
       "      7        1271\n",
       "      8        1404\n",
       "      9         482\n",
       "Name: id, dtype: int64"
      ]
     },
     "execution_count": 63,
     "metadata": {},
     "output_type": "execute_result"
    }
   ],
   "source": [
    "s_new_rates"
   ]
  },
  {
   "cell_type": "code",
   "execution_count": null,
   "metadata": {
    "collapsed": true
   },
   "outputs": [],
   "source": []
  }
 ],
 "metadata": {
  "kernelspec": {
   "display_name": "Python 3",
   "language": "python",
   "name": "python3"
  },
  "language_info": {
   "codemirror_mode": {
    "name": "ipython",
    "version": 3
   },
   "file_extension": ".py",
   "mimetype": "text/x-python",
   "name": "python",
   "nbconvert_exporter": "python",
   "pygments_lexer": "ipython3",
   "version": "3.4.3"
  }
 },
 "nbformat": 4,
 "nbformat_minor": 0
}
