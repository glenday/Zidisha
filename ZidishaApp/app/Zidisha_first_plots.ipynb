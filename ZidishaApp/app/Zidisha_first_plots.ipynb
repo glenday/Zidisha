{
 "cells": [
  {
   "cell_type": "code",
   "execution_count": 1,
   "metadata": {
    "collapsed": false
   },
   "outputs": [],
   "source": [
    "import numpy as np\n",
    "import pandas as pd\n",
    "import seaborn as sns\n",
    "import matplotlib.pyplot as plt\n",
    "import sqlalchemy as sql\n",
    "import pymysql\n",
    "import sklearn.linear_model as skllm\n",
    "import statsmodels.api as sm\n",
    "import bin_time_data as bd\n",
    "%matplotlib inline"
   ]
  },
  {
   "cell_type": "code",
   "execution_count": 2,
   "metadata": {
    "collapsed": true
   },
   "outputs": [],
   "source": [
    "sns.set_context('poster')"
   ]
  },
  {
   "cell_type": "code",
   "execution_count": 3,
   "metadata": {
    "collapsed": true
   },
   "outputs": [],
   "source": [
    "#connect to db\n",
    "engine = sql.create_engine('mysql+pymysql://root:@localhost/zidisha')"
   ]
  },
  {
   "cell_type": "code",
   "execution_count": null,
   "metadata": {
    "collapsed": false
   },
   "outputs": [],
   "source": [
    "'''\n",
    "#load tables\n",
    "\n",
    "#data on individual borrowers\n",
    "df_borrowers = pd.read_sql_query('SELECT * FROM borrowers', engine)\n",
    "#data on each loan started\n",
    "df_loans = pd.read_sql_query('SELECT * FROM loans', engine)\n",
    "#data on credits given for inviting new borrowers\n",
    "df_credits = pd.read_sql_query('SELECT * FROM credits_earned_new', engine)\n",
    "#country data (more than just the contries covered by Zidisha)\n",
    "df_countries = pd.read_sql_query('SELECT * FROM countries', engine)\n",
    "#exhange rates over time\n",
    "df_exchange = pd.read_sql_query('SELECT * FROM exchange_rates', engine)\n",
    "'''"
   ]
  },
  {
   "cell_type": "code",
   "execution_count": null,
   "metadata": {
    "collapsed": false
   },
   "outputs": [],
   "source": [
    "#new accepted borrower account creation dates\n",
    "df_new_borrowers = pd.read_sql_query('SELECT created_at FROM borrowers WHERE activation_status != 4 ORDER BY created_at', engine)\n",
    "df_new_borrowers = pd.DataFrame({'number': range(len(df_new_borrowers))}, index=df_new_borrowers.created_at.values)\n",
    "\n",
    "#all borrower account creation dates\n",
    "df_borrowers = pd.read_sql_query('SELECT created_at FROM borrowers', engine)\n",
    "df_borrowers = pd.DataFrame({'number': 1}, index=df_borrowers.created_at.values)\n",
    "\n",
    "#all loans\n",
    "df_loans = pd.read_sql_query('SELECT created_at FROM loans', engine)\n",
    "df_loans = pd.DataFrame({'number': 1}, index=df_loans.created_at.values)\n",
    "\n",
    "#all loans fully funded\n",
    "df_loans_funded = pd.read_sql_query('SELECT created_at FROM loans WHERE raised_percentage = 100', engine)\n",
    "df_loans_funded = pd.DataFrame({'number': 1}, index=df_loans_funded.created_at.values)\n",
    "\n",
    "#time to funding\n",
    "df_time_to_fund = pd.read_sql_query('SELECT applied_at, TIMESTAMPDIFF(SECOND, applied_at, accepted_at) AS time_to FROM loans WHERE disbursed_at IS NOT NULL ORDER BY applied_at', engine)\n",
    "df_time_to_fund = pd.DataFrame({'time_to': df_time_to_fund.time_to.values/(24.*3600.)}, index=df_time_to_fund.applied_at.values)\n",
    "\n",
    "#time to disbursement\n",
    "df_time_to_disperse = pd.read_sql_query('SELECT accepted_at, TIMESTAMPDIFF(SECOND, accepted_at, disbursed_at) AS time_to FROM loans WHERE disbursed_at IS NOT NULL ORDER BY accepted_at', engine)\n",
    "df_time_to_disperse = pd.DataFrame({'time_to': df_time_to_disperse.time_to.values/(24.*3600.)}, index=df_time_to_disperse.accepted_at.values)\n"
   ]
  },
  {
   "cell_type": "code",
   "execution_count": null,
   "metadata": {
    "collapsed": false,
    "scrolled": true
   },
   "outputs": [],
   "source": [
    "#time_bins_edge = pd.date_range('2014-04-01','2015-09-01', None, 'W')\n",
    "time_bins_edge = pd.date_range('2012-02-01','2015-09-01', None, '2W')\n",
    "#time_bins_edge = pd.date_range('2013-04-01','2015-09-01', None, '3W')\n",
    "time_bins_center = bd.bin_centers_from_edges_time(time_bins_edge)\n",
    "\n",
    "#maximum number of invitees\n",
    "df_max_invite = pd.DataFrame({'max_invites': 0}, index=time_bins_center)\n",
    "df_max_invite[('2014-04-01'<=df_max_invite.index) & (df_max_invite.index<'2014-06-01')] = 4\n",
    "#df_max_invite[('2014-04-01'<=df_max_invite.index) & (df_max_invite.index<'2014-06-01')] = 25\n",
    "df_max_invite[('2014-06-01'<=df_max_invite.index) & (df_max_invite.index<'2014-10-01')] = 3\n",
    "df_max_invite[('2014-10-01'<=df_max_invite.index) & (df_max_invite.index<'2014-12-01')] = 4\n",
    "df_max_invite[('2014-12-01'<=df_max_invite.index) & (df_max_invite.index<'2015-02-01')] = 4\n",
    "#df_max_invite[('2014-12-01'<=df_max_invite.index) & (df_max_invite.index<'2015-02-01')] = 8\n",
    "df_max_invite[('2015-02-01'<=df_max_invite.index) & (df_max_invite.index<'2015-03-01')] = 4\n",
    "df_max_invite[('2015-03-01'<=df_max_invite.index) & (df_max_invite.index<'2015-08-01')] = 10\n",
    "df_max_invite[('2015-08-01'<=df_max_invite.index) & (df_max_invite.index<'2015-09-01')] = 4\n",
    "\n",
    "#maximum new loan\n",
    "df_max_new_loan = pd.DataFrame({'max_loan': 1}, index=time_bins_center)\n",
    "df_max_new_loan[('2012-02-01'<=df_max_new_loan.index) & (df_max_new_loan.index<'2012-08-01')] = 1000\n",
    "df_max_new_loan[('2012-08-01'<=df_max_new_loan.index) & (df_max_new_loan.index<'2013-04-01')] = 500\n",
    "df_max_new_loan[('2013-04-01'<=df_max_new_loan.index) & (df_max_new_loan.index<'2013-12-01')] = 100\n",
    "df_max_new_loan[('2013-12-01'<=df_max_new_loan.index) & (df_max_new_loan.index<'2014-01-01')] = 100\n",
    "#df_max_new_loan[('2013-12-01'<=df_max_new_loan.index) & (df_max_new_loan.index<'2014-01-01')] = 250\n",
    "df_max_new_loan[('2014-01-01'<=df_max_new_loan.index) & (df_max_new_loan.index<'2014-02-01')] = 150\n",
    "#df_max_new_loan[('2014-01-01'<=df_max_new_loan.index) & (df_max_new_loan.index<'2014-02-01')] = 450\n",
    "df_max_new_loan[('2014-02-01'<=df_max_new_loan.index) & (df_max_new_loan.index<'2014-11-01')] = 150\n",
    "df_max_new_loan[('2014-11-01'<=df_max_new_loan.index) & (df_max_new_loan.index<'2015-08-01')] = 100\n",
    "df_max_new_loan[('2015-08-01'<=df_max_new_loan.index) & (df_max_new_loan.index<'2015-10-01')] = 150\n",
    "\n",
    "#fee level\n",
    "df_fee_level = pd.DataFrame({'fee_level': 1}, index=time_bins_center)\n",
    "\n",
    "df_avg_total_borrowers = bd.bin_mean_time(time_bins_edge, df_new_borrowers)\n",
    "df_new_borrowers_counts = bd.bin_count_time(time_bins_edge, df_new_borrowers)\n",
    "df_borrowers_counts = bd.bin_count_time(time_bins_edge, df_borrowers)\n",
    "df_new_app_accept_rate = df_new_borrowers_counts / df_borrowers_counts\n",
    "df_avg_total_borrowers.rename(columns={'data_mean': 'avg_total_borrowers'}, inplace=True)\n",
    "df_new_borrowers_counts.rename(columns={'data_counts': 'new_borrowers_per_period'}, inplace=True)\n",
    "df_new_app_accept_rate.rename(columns={'data_counts': 'new_app_accept_frac'}, inplace=True)\n",
    "\n",
    "df_avg_time_to_fund = bd.bin_mean_time(time_bins_edge, df_time_to_fund)\n",
    "df_avg_time_to_disperse = bd.bin_mean_time(time_bins_edge, df_time_to_disperse)\n",
    "df_avg_time_to_fund.rename(columns={'data_mean': 'avg_time_to_fund'}, inplace=True)\n",
    "df_avg_time_to_disperse.rename(columns={'data_mean': 'avg_time_to_disperse'}, inplace=True)\n",
    "\n",
    "df_loans_count = bd.bin_count_time(time_bins_edge, df_loans)\n",
    "df_loans_funded_count = bd.bin_count_time(time_bins_edge, df_loans_funded)\n",
    "df_loans_fund_rate = df_loans_funded_count / df_loans_count\n",
    "df_loans_fund_rate.rename(columns={'data_counts': 'loan_fund_rate'}, inplace=True)\n"
   ]
  },
  {
   "cell_type": "code",
   "execution_count": null,
   "metadata": {
    "collapsed": true
   },
   "outputs": [],
   "source": [
    "df_median_time_to_disperse = bd.bin_median_time(time_bins_edge, df_time_to_disperse)"
   ]
  },
  {
   "cell_type": "code",
   "execution_count": null,
   "metadata": {
    "collapsed": false
   },
   "outputs": [],
   "source": [
    "df_median_time_to_fund = bd.bin_median_time(time_bins_edge, df_time_to_fund)"
   ]
  },
  {
   "cell_type": "code",
   "execution_count": null,
   "metadata": {
    "collapsed": false
   },
   "outputs": [],
   "source": [
    "plt.plot(df_avg_time_to_disperse.index, df_avg_time_to_disperse.avg_time_to_disperse)\n",
    "plt.plot(df_median_time_to_disperse.index, df_median_time_to_disperse.data_median)\n"
   ]
  },
  {
   "cell_type": "code",
   "execution_count": null,
   "metadata": {
    "collapsed": false
   },
   "outputs": [],
   "source": [
    "plt.plot(df_avg_time_to_fund.index, df_avg_time_to_fund.avg_time_to_fund)\n",
    "plt.plot(df_median_time_to_fund.index, df_median_time_to_fund.data_median)\n"
   ]
  },
  {
   "cell_type": "code",
   "execution_count": null,
   "metadata": {
    "collapsed": false
   },
   "outputs": [],
   "source": [
    "plt.plot(df_avg_time_to_fund.index, df_avg_time_to_fund.avg_time_to_fund)\n",
    "plt.plot(df_median_time_to_fund.index, df_median_time_to_fund.data_median)\n",
    "plt.yscale('log')"
   ]
  },
  {
   "cell_type": "code",
   "execution_count": null,
   "metadata": {
    "collapsed": false
   },
   "outputs": [],
   "source": [
    "plt.plot(df_time_to_disperse.index, df_time_to_disperse.time_to)\n",
    "plt.plot(df_avg_time_to_disperse.index, df_avg_time_to_disperse.avg_time_to_disperse)\n",
    "plt.plot(df_median_time_to_disperse.index, df_median_time_to_disperse.data_median)\n",
    "plt.yscale('log')"
   ]
  },
  {
   "cell_type": "code",
   "execution_count": null,
   "metadata": {
    "collapsed": false
   },
   "outputs": [],
   "source": [
    "plt.plot(df_time_to_fund.index, df_time_to_fund.time_to)\n",
    "plt.plot(df_avg_time_to_fund.index, df_avg_time_to_fund.avg_time_to_fund)\n",
    "plt.plot(df_median_time_to_fund.index, df_median_time_to_fund.data_median)\n",
    "plt.yscale('log')"
   ]
  },
  {
   "cell_type": "code",
   "execution_count": null,
   "metadata": {
    "collapsed": false
   },
   "outputs": [],
   "source": [
    "\n",
    "#Fit matrix, n_samples x n_features\n",
    "disperse_feature = df_avg_time_to_disperse.avg_time_to_disperse.values\n",
    "fund_time_feature = df_avg_time_to_fund.avg_time_to_fund.values\n",
    "invite_feature = df_avg_total_borrowers.avg_total_borrowers * df_max_invite.max_invites.values\n",
    "fund_rate_feature = df_loans_fund_rate.loan_fund_rate.values\n",
    "app_accept_feature = df_new_app_accept_rate.new_app_accept_frac.values\n",
    "max_loan_feature = df_max_new_loan.max_loan.values\n",
    "\n",
    "label_array = df_new_borrowers_counts.new_borrowers_per_period.values\n",
    "feature_mat = np.transpose(np.array([disperse_feature, fund_time_feature, invite_feature, fund_rate_feature, app_accept_feature, max_loan_feature]))"
   ]
  },
  {
   "cell_type": "code",
   "execution_count": null,
   "metadata": {
    "collapsed": false
   },
   "outputs": [],
   "source": [
    "linear_regress_model = skllm.LinearRegression()\n",
    "linear_regress_model.fit(feature_mat, label_array)"
   ]
  },
  {
   "cell_type": "code",
   "execution_count": null,
   "metadata": {
    "collapsed": false,
    "scrolled": false
   },
   "outputs": [],
   "source": [
    "plt.plot(time_bins_center, invite_feature)"
   ]
  },
  {
   "cell_type": "code",
   "execution_count": null,
   "metadata": {
    "collapsed": false
   },
   "outputs": [],
   "source": [
    "fit_array = linear_regress_model.predict(feature_mat)\n",
    "resid = label_array - fit_array\n",
    "linear_regress_model.score(feature_mat, label_array)\n"
   ]
  },
  {
   "cell_type": "code",
   "execution_count": null,
   "metadata": {
    "collapsed": false
   },
   "outputs": [],
   "source": [
    "const_array = np.empty(len(time_bins_center))\n",
    "const_array.fill(1)\n",
    "feature_mat2 = np.transpose(np.array([const_array, disperse_feature, fund_time_feature, invite_feature, fund_rate_feature, app_accept_feature, max_loan_feature]))\n",
    "model = sm.OLS(label_array, feature_mat2)\n",
    "results = model.fit()\n",
    "print(results.summary())\n",
    "labels = ['x1: Time to dispersal','x2: Time to fund','x3: Max invites * total borrowers','x4: Fraction funded','x5: Fraction applicants accepted','x6: Maximum loan limit']\n",
    "print('\\n'.join(labels)+'\\n')"
   ]
  },
  {
   "cell_type": "code",
   "execution_count": null,
   "metadata": {
    "collapsed": false
   },
   "outputs": [],
   "source": [
    "m_corr = results.cov_params()\n",
    "v_sdev = np.sqrt(np.diag(m_corr))\n",
    "m_corr /= np.outer(v_sdev, v_sdev)\n",
    "pd.DataFrame(m_corr)"
   ]
  },
  {
   "cell_type": "code",
   "execution_count": null,
   "metadata": {
    "collapsed": false
   },
   "outputs": [],
   "source": [
    "plt.scatter(time_bins_center, label_array)\n",
    "plt.plot(time_bins_center, fit_array)"
   ]
  },
  {
   "cell_type": "code",
   "execution_count": null,
   "metadata": {
    "collapsed": false
   },
   "outputs": [],
   "source": [
    "df_fit = pd.DataFrame({'Fit': fit_array, 'Data':df_new_borrowers_counts.new_borrowers_per_period},index=time_bins_center)\n",
    "\n",
    "df_fit.plot()\n",
    "plt.ylabel('Number of new borrowers')\n",
    "plt.xlabel('Date')"
   ]
  },
  {
   "cell_type": "code",
   "execution_count": null,
   "metadata": {
    "collapsed": false
   },
   "outputs": [],
   "source": [
    "df_fit = pd.DataFrame({'Fit': fit_array},index=time_bins_center)\n",
    "plt.plot(time_bins_center, label_array)\n",
    "plt.plot(time_bins_center, fit_array)\n",
    "plt.legend()"
   ]
  },
  {
   "cell_type": "code",
   "execution_count": null,
   "metadata": {
    "collapsed": false
   },
   "outputs": [],
   "source": [
    "sns.set_context('poster')\n",
    "#plt.figure(figsize=(8, 6))\n",
    "df_avg_time_to_fund.plot()\n",
    "#plt.ylim([0, 11])\n",
    "plt.ylabel('Days')\n",
    "plt.xlabel('Date')"
   ]
  },
  {
   "cell_type": "code",
   "execution_count": null,
   "metadata": {
    "collapsed": false
   },
   "outputs": [],
   "source": [
    "df_avg_time_to_disperse.plot()\n",
    "plt.ylabel('Days')\n",
    "plt.xlabel('Date')"
   ]
  },
  {
   "cell_type": "code",
   "execution_count": null,
   "metadata": {
    "collapsed": false
   },
   "outputs": [],
   "source": [
    "df_max_new_loan.plot()\n",
    "plt.ylim([0,1100])\n",
    "plt.ylabel('Dollars')\n",
    "plt.xlabel('Date')"
   ]
  },
  {
   "cell_type": "code",
   "execution_count": null,
   "metadata": {
    "collapsed": false
   },
   "outputs": [],
   "source": [
    "df_max_invite.plot()\n",
    "plt.ylim([0,11])\n",
    "plt.ylabel('Max number of invitees')\n",
    "plt.xlabel('Date')"
   ]
  },
  {
   "cell_type": "code",
   "execution_count": null,
   "metadata": {
    "collapsed": false,
    "scrolled": true
   },
   "outputs": [],
   "source": [
    "df_new_app_accept_rate.plot()\n",
    "plt.ylabel('Fraction accepted')\n",
    "plt.xlabel('Date')"
   ]
  },
  {
   "cell_type": "code",
   "execution_count": null,
   "metadata": {
    "collapsed": false
   },
   "outputs": [],
   "source": [
    "df_loans_fund_rate.plot()\n",
    "plt.ylabel('Fraction funded')\n",
    "plt.xlabel('Date')"
   ]
  },
  {
   "cell_type": "code",
   "execution_count": null,
   "metadata": {
    "collapsed": false
   },
   "outputs": [],
   "source": [
    "df_new_borrowers_counts.plot()\n",
    "plt.ylabel('New borrowers per period')\n",
    "plt.xlabel('Date')"
   ]
  },
  {
   "cell_type": "code",
   "execution_count": null,
   "metadata": {
    "collapsed": false
   },
   "outputs": [],
   "source": [
    "df_avg_total_borrowers.plot()\n",
    "plt.ylabel('Average total borrowers')\n",
    "plt.xlabel('Date')"
   ]
  },
  {
   "cell_type": "code",
   "execution_count": null,
   "metadata": {
    "collapsed": false
   },
   "outputs": [],
   "source": [
    "df_new_borrowers.plot()\n",
    "plt.ylabel('Total borrowers')\n",
    "plt.xlabel('Date')"
   ]
  },
  {
   "cell_type": "code",
   "execution_count": null,
   "metadata": {
    "collapsed": false
   },
   "outputs": [],
   "source": [
    "df_borrowers.dtypes"
   ]
  },
  {
   "cell_type": "code",
   "execution_count": null,
   "metadata": {
    "collapsed": false
   },
   "outputs": [],
   "source": [
    "df_loans.dtypes"
   ]
  },
  {
   "cell_type": "code",
   "execution_count": null,
   "metadata": {
    "collapsed": true
   },
   "outputs": [],
   "source": [
    "df_exchange.dtypes"
   ]
  },
  {
   "cell_type": "code",
   "execution_count": null,
   "metadata": {
    "collapsed": true
   },
   "outputs": [],
   "source": [
    "df_countries.dtypes"
   ]
  },
  {
   "cell_type": "code",
   "execution_count": null,
   "metadata": {
    "collapsed": false
   },
   "outputs": [],
   "source": [
    "df_countries[df_countries.name=='Kenya']"
   ]
  },
  {
   "cell_type": "code",
   "execution_count": null,
   "metadata": {
    "collapsed": true
   },
   "outputs": [],
   "source": [
    "#merge tables (this is not particularly efficient, as we do not need all the columns)\n",
    "df_loans_borrowers = pd.merge(df_borrowers, df_loans, left_on='id', right_on='borrower_id')\n",
    "df_loans_borrowers_countries = pd.merge(df_loans_borrowers, df_countries, left_on='country_id',right_on='id')"
   ]
  },
  {
   "cell_type": "code",
   "execution_count": null,
   "metadata": {
    "collapsed": false
   },
   "outputs": [],
   "source": [
    "df_borrowers_time = df_borrowers.set_index('created_at')\n",
    "df_borrowers_time = df_borrowers_time[df_borrowers_time.activation_status != 4]\n",
    "#s_new_rates = df_borrowers_time.groupby([lambda x: pd.datetime(x.year, x.month, 0, 0)])['id'].count()\n",
    "s_new_rates = df_borrowers_time.groupby([lambda x: x.year, lambda x: x.month, ])['id'].count()\n",
    "#s_new_rates = pd.DataFrame({s_new_rates})"
   ]
  },
  {
   "cell_type": "code",
   "execution_count": null,
   "metadata": {
    "collapsed": false
   },
   "outputs": [],
   "source": [
    "df_borrowers_simp = pd.DataFrame({'year' : df_borrowers.created_at.dt.year,\n",
    "                                 'month' : df_borrowers.created_at.dt.month,\n",
    "                                 'id' : df_borrowers.id})\n",
    "s_new_rates = df_borrowers_simp.groupby(['year','month'])['id'].count()\n",
    "s_new_rates = pd.DataFrame({'date' : dateTime(s_new_rates})"
   ]
  }
 ],
 "metadata": {
  "kernelspec": {
   "display_name": "Python 3",
   "language": "python",
   "name": "python3"
  },
  "language_info": {
   "codemirror_mode": {
    "name": "ipython",
    "version": 3
   },
   "file_extension": ".py",
   "mimetype": "text/x-python",
   "name": "python",
   "nbconvert_exporter": "python",
   "pygments_lexer": "ipython3",
   "version": "3.4.3"
  }
 },
 "nbformat": 4,
 "nbformat_minor": 0
}
