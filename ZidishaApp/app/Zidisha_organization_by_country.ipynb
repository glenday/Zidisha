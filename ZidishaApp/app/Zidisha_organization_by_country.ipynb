{
 "cells": [
  {
   "cell_type": "code",
   "execution_count": 1,
   "metadata": {
    "collapsed": true
   },
   "outputs": [],
   "source": [
    "import os\n",
    "import numpy as np\n",
    "import pandas as pd\n",
    "import seaborn as sns\n",
    "import matplotlib.pyplot as plt\n",
    "import sqlalchemy as sql\n",
    "import pymysql\n",
    "import sklearn.linear_model as skllm\n",
    "import statsmodels.api as sm\n",
    "import bin_time_data as bd\n",
    "import query_database as qdb\n",
    "import plot_lists\n",
    "import load_Zidisha\n",
    "%matplotlib inline"
   ]
  },
  {
   "cell_type": "code",
   "execution_count": 2,
   "metadata": {
    "collapsed": false
   },
   "outputs": [],
   "source": [
    "sns.set_context('poster')"
   ]
  },
  {
   "cell_type": "code",
   "execution_count": 3,
   "metadata": {
    "collapsed": false
   },
   "outputs": [],
   "source": [
    "#connect to db\n",
    "zidisha_db = qdb.QueryDatabase('zidisha')"
   ]
  },
  {
   "cell_type": "code",
   "execution_count": 4,
   "metadata": {
    "collapsed": false
   },
   "outputs": [],
   "source": [
    "sql_dir = 'SQL_queries'\n",
    "\n",
    "# List of all borrower countries\n",
    "sql_query_file = 'country_name_list.sql'\n",
    "df_countries = zidisha_db.source_query(sql_dir, sql_query_file, index_col_position=None)[0]\n",
    "list_countries = df_countries.country_name.tolist()\n",
    "\n",
    "# Big countries\n",
    "list_countries = ['Burkina Faso', 'Ghana', 'Indonesia', 'Kenya']\n",
    "labels_countries = ['All'] + list_countries\n",
    "\n",
    "# Accepted borrower account creation dates\n",
    "sql_query_file = 'borrowers_w_countries.sql'\n",
    "list_df_new_borrowers = zidisha_db.source_query(sql_dir, sql_query_file, where_filter_col='country_name', where_filter_list=list_countries)\n",
    "for df in list_df_new_borrowers:\n",
    "    df.insert(0, 'number', range(len(df)))\n",
    "\n",
    "# Borrower first loan creation dates\n",
    "sql_query_file = 'first_loans_w_countries.sql'\n",
    "list_df_first_loans = zidisha_db.source_query(sql_dir, sql_query_file, where_filter_col='country_name', where_filter_list=list_countries)\n",
    "for df in list_df_first_loans:\n",
    "    df.insert(0, 'number', range(len(df)))\n",
    "\n",
    "# All loans\n",
    "sql_query_file = 'all_loans.sql'\n",
    "list_df_all_loans = zidisha_db.source_query(sql_dir, sql_query_file, where_filter_col='country_name', where_filter_list=list_countries)\n",
    "\n",
    "# Fully funded loans\n",
    "sql_query_file = 'fully_funded_loans.sql'\n",
    "list_df_fully_funded_loans = zidisha_db.source_query(sql_dir, sql_query_file, where_filter_col='country_name', where_filter_list=list_countries)\n",
    "\n",
    "# Load exchange rates\n",
    "sql_query_file = 'exchange_rates_start.sql'\n",
    "list_df_exchange_start = zidisha_db.source_query(sql_dir, sql_query_file, where_filter_col='country_name', where_filter_list=list_countries)"
   ]
  },
  {
   "cell_type": "code",
   "execution_count": 5,
   "metadata": {
    "collapsed": false
   },
   "outputs": [
    {
     "data": {
      "text/plain": [
       "\"\\nlist_df_all_loans_count = bin_short(list_df_all_loans, 'count')\\nlist_df_fully_funded_count = bin_short(list_df_fully_funded_loans, 'count')\\n\\nlist_df_new_borrowers_count = bin_short(list_df_new_borrowers, 'count')\\nlist_df_first_loans_count = bin_short(list_df_first_loans, 'count')\\nlist_df_total_borrowers = bin_short(list_df_new_borrowers, 'mean')\\nlist_df_total_first_loans = bin_short(list_df_first_loans, 'mean')\\n\\n#list_df_new_borrowers_count = bd.bin_list_time(time_bins_edge, list_df_new_borrowers, bin_type='count', binned_col_labels=labels_countries)\\n#list_df_first_loans_count = bd.bin_list_time(time_bins_edge, list_df_first_loans, bin_type='count', binned_col_labels=labels_countries)\\n#list_df_total_borrowers = bd.bin_list_time(time_bins_edge, list_df_new_borrowers, bin_type='mean', binned_col_labels=labels_countries)\\n#list_df_total_first_loans = bd.bin_list_time(time_bins_edge, list_df_first_loans, bin_type='mean', binned_col_labels=labels_countries)\\n\\n# Policies\\ndf_loan_loss_fee = load_Zidisha.loan_loss_reserve_fee(time_bins_center)\\ndf_max_invites = load_Zidisha.max_invites(time_bins_center)\\ndf_max_first_loan = load_Zidisha.max_new_loan_size(time_bins_center)\\n\""
      ]
     },
     "execution_count": 5,
     "metadata": {},
     "output_type": "execute_result"
    }
   ],
   "source": [
    "time_bins_edge = pd.date_range('2014-04-01','2015-09-01', None, '2W')\n",
    "#time_bins_edge = pd.date_range('2012-02-01','2015-09-01', None, '2W')\n",
    "#time_bins_edge = pd.date_range('2013-04-01','2015-09-01', None, '3W')\n",
    "time_bins_center = bd.bin_centers_from_edges_time(time_bins_edge)\n",
    "\n",
    "bin_short = lambda list_df, bin_type_str: bd.bin_list_to_data_frame(bd.bin_list_time(time_bins_edge, list_df, bin_type=bin_type_str, binned_col_labels=labels_countries))\n",
    "\n",
    "df_all_loans_count = bin_short(list_df_all_loans, 'count')\n",
    "df_fully_funded_count = bin_short(list_df_fully_funded_loans, 'count')\n",
    "\n",
    "df_new_borrowers_count = bin_short(list_df_new_borrowers, 'count')\n",
    "df_first_loans_count = bin_short(list_df_first_loans, 'count')\n",
    "df_total_borrowers = bin_short(list_df_new_borrowers, 'mean')\n",
    "df_total_first_loans = bin_short(list_df_first_loans, 'mean')\n",
    "\n",
    "#list_df_new_borrowers_count = bd.bin_list_time(time_bins_edge, list_df_new_borrowers, bin_type='count', binned_col_labels=labels_countries)\n",
    "#list_df_first_loans_count = bd.bin_list_time(time_bins_edge, list_df_first_loans, bin_type='count', binned_col_labels=labels_countries)\n",
    "#list_df_total_borrowers = bd.bin_list_time(time_bins_edge, list_df_new_borrowers, bin_type='mean', binned_col_labels=labels_countries)\n",
    "#list_df_total_first_loans = bd.bin_list_time(time_bins_edge, list_df_first_loans, bin_type='mean', binned_col_labels=labels_countries)\n",
    "\n",
    "# Policies\n",
    "df_loan_loss_fee = load_Zidisha.loan_loss_reserve_fee(time_bins_center)\n",
    "df_max_invites = load_Zidisha.max_invites(time_bins_center)\n",
    "df_max_first_loan = load_Zidisha.max_new_loan_size(time_bins_center)\n",
    "\n",
    "'''\n",
    "list_df_all_loans_count = bin_short(list_df_all_loans, 'count')\n",
    "list_df_fully_funded_count = bin_short(list_df_fully_funded_loans, 'count')\n",
    "\n",
    "list_df_new_borrowers_count = bin_short(list_df_new_borrowers, 'count')\n",
    "list_df_first_loans_count = bin_short(list_df_first_loans, 'count')\n",
    "list_df_total_borrowers = bin_short(list_df_new_borrowers, 'mean')\n",
    "list_df_total_first_loans = bin_short(list_df_first_loans, 'mean')\n",
    "\n",
    "#list_df_new_borrowers_count = bd.bin_list_time(time_bins_edge, list_df_new_borrowers, bin_type='count', binned_col_labels=labels_countries)\n",
    "#list_df_first_loans_count = bd.bin_list_time(time_bins_edge, list_df_first_loans, bin_type='count', binned_col_labels=labels_countries)\n",
    "#list_df_total_borrowers = bd.bin_list_time(time_bins_edge, list_df_new_borrowers, bin_type='mean', binned_col_labels=labels_countries)\n",
    "#list_df_total_first_loans = bd.bin_list_time(time_bins_edge, list_df_first_loans, bin_type='mean', binned_col_labels=labels_countries)\n",
    "\n",
    "# Policies\n",
    "df_loan_loss_fee = load_Zidisha.loan_loss_reserve_fee(time_bins_center)\n",
    "df_max_invites = load_Zidisha.max_invites(time_bins_center)\n",
    "df_max_first_loan = load_Zidisha.max_new_loan_size(time_bins_center)\n",
    "'''"
   ]
  },
  {
   "cell_type": "code",
   "execution_count": null,
   "metadata": {
    "collapsed": false
   },
   "outputs": [],
   "source": [
    "df_fund_rate = list_df_fully_funded_count / list_df_all_loans_count"
   ]
  },
  {
   "cell_type": "code",
   "execution_count": null,
   "metadata": {
    "collapsed": false
   },
   "outputs": [],
   "source": [
    "plot_lists.group(list_df_first_loans_count)\n",
    "plt.ylabel('Number of new loans per 2 weeks')"
   ]
  },
  {
   "cell_type": "code",
   "execution_count": null,
   "metadata": {
    "collapsed": false
   },
   "outputs": [],
   "source": [
    "plot_lists.group(list_df_new_borrowers_count)\n",
    "plt.ylabel('Number of new borrowers per 2 weeks')"
   ]
  },
  {
   "cell_type": "code",
   "execution_count": null,
   "metadata": {
    "collapsed": false
   },
   "outputs": [],
   "source": [
    "df_loan_loss_fee.plot()\n",
    "plt.ylabel('Kenya loan loss reserve fee (USD)')"
   ]
  },
  {
   "cell_type": "code",
   "execution_count": null,
   "metadata": {
    "collapsed": false
   },
   "outputs": [],
   "source": [
    "df_max_first_loan.plot()\n",
    "plt.ylabel('Maxium first loan size (USD)')"
   ]
  },
  {
   "cell_type": "code",
   "execution_count": null,
   "metadata": {
    "collapsed": false
   },
   "outputs": [],
   "source": [
    "df_all = pd.DataFrame({label:df.iloc[:,0] for df, label in zip(list_df_first_loans_count, labels_countries)})\n",
    "df_all.plot()"
   ]
  },
  {
   "cell_type": "code",
   "execution_count": null,
   "metadata": {
    "collapsed": false
   },
   "outputs": [],
   "source": [
    "df_all = pd.DataFrame({label:df.iloc[:,0] for df, label in zip(list_df_new_borrowers_count, labels_countries)})\n",
    "df_all.plot()\n",
    "plt.ylabel('')"
   ]
  },
  {
   "cell_type": "code",
   "execution_count": null,
   "metadata": {
    "collapsed": false
   },
   "outputs": [],
   "source": [
    "df_all = pd.DataFrame({label:df.iloc[:,0] for df, label in zip(list_df_total_borrowers, labels_countries)})\n",
    "df_all.plot()"
   ]
  },
  {
   "cell_type": "code",
   "execution_count": null,
   "metadata": {
    "collapsed": false
   },
   "outputs": [],
   "source": [
    "df_all = pd.DataFrame({label:df.iloc[:,0] for df, label in zip(list_df_total_first_loans, labels_countries)})\n",
    "df_all.plot()"
   ]
  },
  {
   "cell_type": "code",
   "execution_count": null,
   "metadata": {
    "collapsed": false
   },
   "outputs": [],
   "source": [
    "for df in list_df_total_first_loans:\n",
    "    df.plot()"
   ]
  },
  {
   "cell_type": "code",
   "execution_count": null,
   "metadata": {
    "collapsed": false
   },
   "outputs": [],
   "source": [
    "for index in range(len(labels_countries)):\n",
    "    list_df_total_first_loans[index].plot()"
   ]
  },
  {
   "cell_type": "code",
   "execution_count": null,
   "metadata": {
    "collapsed": false
   },
   "outputs": [],
   "source": [
    "for index in range(len(labels_countries)):\n",
    "    if list_df_total_first_loans[index].max()[0] > 600:\n",
    "        list_df_total_first_loans[index].plot()"
   ]
  },
  {
   "cell_type": "code",
   "execution_count": null,
   "metadata": {
    "collapsed": true
   },
   "outputs": [],
   "source": [
    "for index in range(len(labels_countries)):\n",
    "    print(labels_countries[index])\n",
    "    plt.plot(time)\n",
    "    list_df_new_borrowers_count[index].plot()"
   ]
  },
  {
   "cell_type": "code",
   "execution_count": null,
   "metadata": {
    "collapsed": false
   },
   "outputs": [],
   "source": [
    "for index in range(len(labels_countries)):\n",
    "    print(labels_countries[index])\n",
    "    list_df_new_borrowers_count[index].plot()"
   ]
  },
  {
   "cell_type": "code",
   "execution_count": null,
   "metadata": {
    "collapsed": false
   },
   "outputs": [],
   "source": [
    "list_df_new_borrowers[1]"
   ]
  },
  {
   "cell_type": "code",
   "execution_count": null,
   "metadata": {
    "collapsed": false
   },
   "outputs": [],
   "source": [
    "for df in list_df_new_borrowers:\n",
    "    print(type(df))"
   ]
  },
  {
   "cell_type": "code",
   "execution_count": null,
   "metadata": {
    "collapsed": false
   },
   "outputs": [],
   "source": [
    "df_new_borrowers.columns.tolist()[0]"
   ]
  },
  {
   "cell_type": "code",
   "execution_count": null,
   "metadata": {
    "collapsed": true
   },
   "outputs": [],
   "source": [
    "time_bins_edge = pd.date_range('2012-02-01','2015-09-01', None, '2W')\n",
    "time_bins_center = bd.bin_centers_from_edges_time(time_bins_edge)"
   ]
  },
  {
   "cell_type": "code",
   "execution_count": null,
   "metadata": {
    "collapsed": false
   },
   "outputs": [],
   "source": [
    "df_new_borrowers_counts = bd.bin_count_time(time_bins_edge, list_df_new_borrowers[0])\n",
    "df_new_borrowers_counts.plot()"
   ]
  },
  {
   "cell_type": "code",
   "execution_count": null,
   "metadata": {
    "collapsed": false
   },
   "outputs": [],
   "source": [
    "time_bins_edge = pd.date_range('2012-02-01','2015-09-01', None, '2W')\n",
    "df_first_loans_counts = bd.bin_count_time(time_bins_edge, list_df_first_loans[0])\n",
    "df_first_loans_counts.plot()"
   ]
  },
  {
   "cell_type": "code",
   "execution_count": null,
   "metadata": {
    "collapsed": false
   },
   "outputs": [],
   "source": [
    "plt.plot(time_bins_center, df_first_loans_counts.data_counts)\n",
    "plt.plot(time_bins_center, df_new_borrowers_counts.data_counts)"
   ]
  },
  {
   "cell_type": "code",
   "execution_count": null,
   "metadata": {
    "collapsed": false
   },
   "outputs": [],
   "source": [
    "df_first_loans"
   ]
  },
  {
   "cell_type": "code",
   "execution_count": null,
   "metadata": {
    "collapsed": false
   },
   "outputs": [],
   "source": [
    "df_first_loans['index']"
   ]
  },
  {
   "cell_type": "code",
   "execution_count": null,
   "metadata": {
    "collapsed": false
   },
   "outputs": [],
   "source": [
    "tlag = pd.DataFrame({'tdiff': df_first_loans.index.values - df_first_loans.created_at.values}, index=df_first_loans.index)\n",
    "tlag = pd.DataFrame({'tdiff': tlag.tdiff.values}, index=tlag.index.values)\n",
    "tlag.plot()"
   ]
  },
  {
   "cell_type": "code",
   "execution_count": null,
   "metadata": {
    "collapsed": false
   },
   "outputs": [],
   "source": [
    "x=np.timedelta64(tlag.tdiff[0])\n",
    "date=x.astype('timedelta64[s]')\n",
    "date.astype(int)"
   ]
  },
  {
   "cell_type": "code",
   "execution_count": null,
   "metadata": {
    "collapsed": true
   },
   "outputs": [],
   "source": [
    "'''\n",
    "Combine acceptance rates with other terms, e.g. (theta0 + theta1*accept_rate)*\n",
    "\n",
    "'''"
   ]
  }
 ],
 "metadata": {
  "kernelspec": {
   "display_name": "Python 3",
   "language": "python",
   "name": "python3"
  },
  "language_info": {
   "codemirror_mode": {
    "name": "ipython",
    "version": 3
   },
   "file_extension": ".py",
   "mimetype": "text/x-python",
   "name": "python",
   "nbconvert_exporter": "python",
   "pygments_lexer": "ipython3",
   "version": "3.4.3"
  }
 },
 "nbformat": 4,
 "nbformat_minor": 0
}
