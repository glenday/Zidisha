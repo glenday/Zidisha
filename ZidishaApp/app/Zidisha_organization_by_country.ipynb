{
 "cells": [
  {
   "cell_type": "code",
   "execution_count": 1,
   "metadata": {
    "collapsed": true
   },
   "outputs": [],
   "source": [
    "import os\n",
    "import numpy as np\n",
    "import pandas as pd\n",
    "import seaborn as sns\n",
    "import matplotlib.pyplot as plt\n",
    "import sqlalchemy as sql\n",
    "import pymysql\n",
    "import sklearn.linear_model as skllm\n",
    "import statsmodels.api as sm\n",
    "import bin_time_data as bd\n",
    "import query_database as qdb\n",
    "%matplotlib inline"
   ]
  },
  {
   "cell_type": "code",
   "execution_count": 2,
   "metadata": {
    "collapsed": true
   },
   "outputs": [],
   "source": [
    "sns.set_context('poster')"
   ]
  },
  {
   "cell_type": "code",
   "execution_count": 3,
   "metadata": {
    "collapsed": false
   },
   "outputs": [],
   "source": [
    "#connect to db\n",
    "zidisha_db = qdb.QueryDatabase('zidisha')"
   ]
  },
  {
   "cell_type": "code",
   "execution_count": 13,
   "metadata": {
    "collapsed": true
   },
   "outputs": [],
   "source": [
    "dict_t = {'a': 1, 'b': 2}"
   ]
  },
  {
   "cell_type": "code",
   "execution_count": 16,
   "metadata": {
    "collapsed": false
   },
   "outputs": [
    {
     "data": {
      "text/plain": [
       "'b, a'"
      ]
     },
     "execution_count": 16,
     "metadata": {},
     "output_type": "execute_result"
    }
   ],
   "source": [
    "', '.join(dict_t.keys())"
   ]
  },
  {
   "cell_type": "code",
   "execution_count": 7,
   "metadata": {
    "collapsed": false
   },
   "outputs": [],
   "source": [
    "sql_dir = 'SQL_queries'\n",
    "\n",
    "#List of all borrower countries\n",
    "sql_query_file = 'country_name_list.sql'\n",
    "df_countries = zidisha_db.source_query(sql_dir, sql_query_file, index_col_position=None)[0]\n",
    "list_countries = df_countries.country_name.tolist()\n",
    "\n",
    "#Accepted borrower account creation dates\n",
    "sql_query_file = 'borrowers_w_countries.sql'\n",
    "list_df_new_borrowers = zidisha_db.source_query(sql_dir, sql_query_file, where_filter_col='country_name', where_filter_list=list_countries)\n",
    "for df in list_df_new_borrowers:\n",
    "    df.insert(0, 'number', range(len(df)))\n",
    "\n",
    "#Borrower first loan creation dates\n",
    "sql_query_file = 'first_loans_w_countries.sql'\n",
    "list_df_first_loans = zidisha_db.source_query(sql_dir, sql_query_file, where_filter_col='country_name', where_filter_list=list_countries)\n",
    "for df in list_df_first_loans:\n",
    "    df.insert(0, 'number', range(len(df)))\n",
    "\n"
   ]
  },
  {
   "cell_type": "code",
   "execution_count": 8,
   "metadata": {
    "collapsed": false
   },
   "outputs": [
    {
     "data": {
      "text/html": [
       "<div>\n",
       "<table border=\"1\" class=\"dataframe\">\n",
       "  <thead>\n",
       "    <tr style=\"text-align: right;\">\n",
       "      <th></th>\n",
       "      <th>number</th>\n",
       "      <th>country_name</th>\n",
       "    </tr>\n",
       "    <tr>\n",
       "      <th>created_at</th>\n",
       "      <th></th>\n",
       "      <th></th>\n",
       "    </tr>\n",
       "  </thead>\n",
       "  <tbody>\n",
       "    <tr>\n",
       "      <th>2012-09-10 11:32:25</th>\n",
       "      <td>0</td>\n",
       "      <td>Benin</td>\n",
       "    </tr>\n",
       "    <tr>\n",
       "      <th>2012-09-17 14:16:18</th>\n",
       "      <td>1</td>\n",
       "      <td>Benin</td>\n",
       "    </tr>\n",
       "    <tr>\n",
       "      <th>2012-09-18 06:12:04</th>\n",
       "      <td>2</td>\n",
       "      <td>Benin</td>\n",
       "    </tr>\n",
       "    <tr>\n",
       "      <th>2012-10-15 14:11:35</th>\n",
       "      <td>3</td>\n",
       "      <td>Benin</td>\n",
       "    </tr>\n",
       "    <tr>\n",
       "      <th>2012-10-22 04:43:41</th>\n",
       "      <td>4</td>\n",
       "      <td>Benin</td>\n",
       "    </tr>\n",
       "    <tr>\n",
       "      <th>2012-10-30 15:04:28</th>\n",
       "      <td>5</td>\n",
       "      <td>Benin</td>\n",
       "    </tr>\n",
       "    <tr>\n",
       "      <th>2012-12-02 12:31:23</th>\n",
       "      <td>6</td>\n",
       "      <td>Benin</td>\n",
       "    </tr>\n",
       "    <tr>\n",
       "      <th>2012-12-26 04:35:03</th>\n",
       "      <td>7</td>\n",
       "      <td>Benin</td>\n",
       "    </tr>\n",
       "    <tr>\n",
       "      <th>2012-12-26 06:22:40</th>\n",
       "      <td>8</td>\n",
       "      <td>Benin</td>\n",
       "    </tr>\n",
       "    <tr>\n",
       "      <th>2013-02-16 06:35:17</th>\n",
       "      <td>9</td>\n",
       "      <td>Benin</td>\n",
       "    </tr>\n",
       "    <tr>\n",
       "      <th>2013-02-26 10:29:14</th>\n",
       "      <td>10</td>\n",
       "      <td>Benin</td>\n",
       "    </tr>\n",
       "    <tr>\n",
       "      <th>2013-02-26 11:02:38</th>\n",
       "      <td>11</td>\n",
       "      <td>Benin</td>\n",
       "    </tr>\n",
       "    <tr>\n",
       "      <th>2013-04-22 08:05:25</th>\n",
       "      <td>12</td>\n",
       "      <td>Benin</td>\n",
       "    </tr>\n",
       "    <tr>\n",
       "      <th>2013-04-25 06:10:34</th>\n",
       "      <td>13</td>\n",
       "      <td>Benin</td>\n",
       "    </tr>\n",
       "    <tr>\n",
       "      <th>2013-04-26 10:34:03</th>\n",
       "      <td>14</td>\n",
       "      <td>Benin</td>\n",
       "    </tr>\n",
       "    <tr>\n",
       "      <th>2013-04-28 07:51:14</th>\n",
       "      <td>15</td>\n",
       "      <td>Benin</td>\n",
       "    </tr>\n",
       "    <tr>\n",
       "      <th>2013-05-15 05:21:00</th>\n",
       "      <td>16</td>\n",
       "      <td>Benin</td>\n",
       "    </tr>\n",
       "    <tr>\n",
       "      <th>2013-05-21 10:52:22</th>\n",
       "      <td>17</td>\n",
       "      <td>Benin</td>\n",
       "    </tr>\n",
       "    <tr>\n",
       "      <th>2013-05-29 03:44:09</th>\n",
       "      <td>18</td>\n",
       "      <td>Benin</td>\n",
       "    </tr>\n",
       "    <tr>\n",
       "      <th>2013-06-08 17:16:04</th>\n",
       "      <td>19</td>\n",
       "      <td>Benin</td>\n",
       "    </tr>\n",
       "    <tr>\n",
       "      <th>2013-06-12 06:32:51</th>\n",
       "      <td>20</td>\n",
       "      <td>Benin</td>\n",
       "    </tr>\n",
       "    <tr>\n",
       "      <th>2013-06-12 06:52:01</th>\n",
       "      <td>21</td>\n",
       "      <td>Benin</td>\n",
       "    </tr>\n",
       "    <tr>\n",
       "      <th>2013-06-12 08:20:44</th>\n",
       "      <td>22</td>\n",
       "      <td>Benin</td>\n",
       "    </tr>\n",
       "    <tr>\n",
       "      <th>2013-06-17 05:34:58</th>\n",
       "      <td>23</td>\n",
       "      <td>Benin</td>\n",
       "    </tr>\n",
       "    <tr>\n",
       "      <th>2013-07-02 06:23:18</th>\n",
       "      <td>24</td>\n",
       "      <td>Benin</td>\n",
       "    </tr>\n",
       "    <tr>\n",
       "      <th>2013-07-09 09:59:40</th>\n",
       "      <td>25</td>\n",
       "      <td>Benin</td>\n",
       "    </tr>\n",
       "    <tr>\n",
       "      <th>2013-07-24 05:40:45</th>\n",
       "      <td>26</td>\n",
       "      <td>Benin</td>\n",
       "    </tr>\n",
       "    <tr>\n",
       "      <th>2013-07-24 13:12:18</th>\n",
       "      <td>27</td>\n",
       "      <td>Benin</td>\n",
       "    </tr>\n",
       "    <tr>\n",
       "      <th>2013-08-23 09:36:23</th>\n",
       "      <td>28</td>\n",
       "      <td>Benin</td>\n",
       "    </tr>\n",
       "    <tr>\n",
       "      <th>2013-09-04 02:16:31</th>\n",
       "      <td>29</td>\n",
       "      <td>Benin</td>\n",
       "    </tr>\n",
       "    <tr>\n",
       "      <th>2013-10-07 02:53:10</th>\n",
       "      <td>30</td>\n",
       "      <td>Benin</td>\n",
       "    </tr>\n",
       "    <tr>\n",
       "      <th>2013-10-07 09:10:20</th>\n",
       "      <td>31</td>\n",
       "      <td>Benin</td>\n",
       "    </tr>\n",
       "    <tr>\n",
       "      <th>2013-12-14 04:48:54</th>\n",
       "      <td>32</td>\n",
       "      <td>Benin</td>\n",
       "    </tr>\n",
       "    <tr>\n",
       "      <th>2013-12-19 06:07:55</th>\n",
       "      <td>33</td>\n",
       "      <td>Benin</td>\n",
       "    </tr>\n",
       "    <tr>\n",
       "      <th>2013-12-22 10:51:11</th>\n",
       "      <td>34</td>\n",
       "      <td>Benin</td>\n",
       "    </tr>\n",
       "    <tr>\n",
       "      <th>2013-12-28 12:30:19</th>\n",
       "      <td>35</td>\n",
       "      <td>Benin</td>\n",
       "    </tr>\n",
       "    <tr>\n",
       "      <th>2014-01-13 18:29:41</th>\n",
       "      <td>36</td>\n",
       "      <td>Benin</td>\n",
       "    </tr>\n",
       "    <tr>\n",
       "      <th>2014-08-23 19:22:39</th>\n",
       "      <td>37</td>\n",
       "      <td>Benin</td>\n",
       "    </tr>\n",
       "    <tr>\n",
       "      <th>2015-01-02 05:06:10</th>\n",
       "      <td>38</td>\n",
       "      <td>Benin</td>\n",
       "    </tr>\n",
       "  </tbody>\n",
       "</table>\n",
       "</div>"
      ],
      "text/plain": [
       "                     number country_name\n",
       "created_at                              \n",
       "2012-09-10 11:32:25       0        Benin\n",
       "2012-09-17 14:16:18       1        Benin\n",
       "2012-09-18 06:12:04       2        Benin\n",
       "2012-10-15 14:11:35       3        Benin\n",
       "2012-10-22 04:43:41       4        Benin\n",
       "2012-10-30 15:04:28       5        Benin\n",
       "2012-12-02 12:31:23       6        Benin\n",
       "2012-12-26 04:35:03       7        Benin\n",
       "2012-12-26 06:22:40       8        Benin\n",
       "2013-02-16 06:35:17       9        Benin\n",
       "2013-02-26 10:29:14      10        Benin\n",
       "2013-02-26 11:02:38      11        Benin\n",
       "2013-04-22 08:05:25      12        Benin\n",
       "2013-04-25 06:10:34      13        Benin\n",
       "2013-04-26 10:34:03      14        Benin\n",
       "2013-04-28 07:51:14      15        Benin\n",
       "2013-05-15 05:21:00      16        Benin\n",
       "2013-05-21 10:52:22      17        Benin\n",
       "2013-05-29 03:44:09      18        Benin\n",
       "2013-06-08 17:16:04      19        Benin\n",
       "2013-06-12 06:32:51      20        Benin\n",
       "2013-06-12 06:52:01      21        Benin\n",
       "2013-06-12 08:20:44      22        Benin\n",
       "2013-06-17 05:34:58      23        Benin\n",
       "2013-07-02 06:23:18      24        Benin\n",
       "2013-07-09 09:59:40      25        Benin\n",
       "2013-07-24 05:40:45      26        Benin\n",
       "2013-07-24 13:12:18      27        Benin\n",
       "2013-08-23 09:36:23      28        Benin\n",
       "2013-09-04 02:16:31      29        Benin\n",
       "2013-10-07 02:53:10      30        Benin\n",
       "2013-10-07 09:10:20      31        Benin\n",
       "2013-12-14 04:48:54      32        Benin\n",
       "2013-12-19 06:07:55      33        Benin\n",
       "2013-12-22 10:51:11      34        Benin\n",
       "2013-12-28 12:30:19      35        Benin\n",
       "2014-01-13 18:29:41      36        Benin\n",
       "2014-08-23 19:22:39      37        Benin\n",
       "2015-01-02 05:06:10      38        Benin"
      ]
     },
     "execution_count": 8,
     "metadata": {},
     "output_type": "execute_result"
    }
   ],
   "source": [
    "list_df_new_borrowers[1]"
   ]
  },
  {
   "cell_type": "code",
   "execution_count": null,
   "metadata": {
    "collapsed": false
   },
   "outputs": [],
   "source": [
    "for df in list_df_new_borrowers:\n",
    "    print(type(df))"
   ]
  },
  {
   "cell_type": "code",
   "execution_count": null,
   "metadata": {
    "collapsed": false
   },
   "outputs": [],
   "source": [
    "df_new_borrowers.columns.tolist()[0]"
   ]
  },
  {
   "cell_type": "code",
   "execution_count": null,
   "metadata": {
    "collapsed": true
   },
   "outputs": [],
   "source": [
    "time_bins_edge = pd.date_range('2012-02-01','2015-09-01', None, '2W')\n",
    "time_bins_center = bd.bin_centers_from_edges_time(time_bins_edge)"
   ]
  },
  {
   "cell_type": "code",
   "execution_count": null,
   "metadata": {
    "collapsed": false
   },
   "outputs": [],
   "source": [
    "df_new_borrowers_counts = bd.bin_count_time(time_bins_edge, df_new_borrowers)\n",
    "df_new_borrowers_counts.plot()"
   ]
  },
  {
   "cell_type": "code",
   "execution_count": null,
   "metadata": {
    "collapsed": false
   },
   "outputs": [],
   "source": [
    "time_bins_edge = pd.date_range('2012-02-01','2015-09-01', None, '2W')\n",
    "df_first_loans_counts = bd.bin_count_time(time_bins_edge, df_first_loans)\n",
    "df_first_loans_counts.plot()"
   ]
  },
  {
   "cell_type": "code",
   "execution_count": null,
   "metadata": {
    "collapsed": false
   },
   "outputs": [],
   "source": [
    "plt.plot(time_bins_center, df_first_loans_counts.data_counts)\n",
    "plt.plot(time_bins_center, df_new_borrowers_counts.data_counts)\n"
   ]
  },
  {
   "cell_type": "code",
   "execution_count": null,
   "metadata": {
    "collapsed": false
   },
   "outputs": [],
   "source": [
    "df_first_loans"
   ]
  },
  {
   "cell_type": "code",
   "execution_count": null,
   "metadata": {
    "collapsed": false
   },
   "outputs": [],
   "source": [
    "df_first_loans['index']"
   ]
  },
  {
   "cell_type": "code",
   "execution_count": null,
   "metadata": {
    "collapsed": false
   },
   "outputs": [],
   "source": [
    "tlag = pd.DataFrame({'tdiff': df_first_loans.index.values - df_first_loans.created_at.values}, index=df_first_loans.index)\n",
    "tlag = pd.DataFrame({'tdiff': tlag.tdiff.values}, index=tlag.index.values)\n",
    "tlag.plot()"
   ]
  },
  {
   "cell_type": "code",
   "execution_count": null,
   "metadata": {
    "collapsed": false
   },
   "outputs": [],
   "source": [
    "x=np.timedelta64(tlag.tdiff[0])\n",
    "date=x.astype('timedelta64[s]')\n",
    "date.astype(int)"
   ]
  },
  {
   "cell_type": "code",
   "execution_count": null,
   "metadata": {
    "collapsed": true
   },
   "outputs": [],
   "source": [
    "'''\n",
    "Combine acceptance rates with other terms, e.g. (theta0 + theta1*accept_rate)*\n",
    "\n",
    "'''"
   ]
  }
 ],
 "metadata": {
  "kernelspec": {
   "display_name": "Python 3",
   "language": "python",
   "name": "python3"
  },
  "language_info": {
   "codemirror_mode": {
    "name": "ipython",
    "version": 3
   },
   "file_extension": ".py",
   "mimetype": "text/x-python",
   "name": "python",
   "nbconvert_exporter": "python",
   "pygments_lexer": "ipython3",
   "version": "3.4.3"
  }
 },
 "nbformat": 4,
 "nbformat_minor": 0
}
